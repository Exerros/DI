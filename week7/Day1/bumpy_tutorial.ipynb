{
 "cells": [
  {
   "cell_type": "markdown",
   "id": "bc93eb62",
   "metadata": {},
   "source": [
    "## NUMPY"
   ]
  },
  {
   "cell_type": "code",
   "execution_count": 1,
   "id": "a16c853d",
   "metadata": {},
   "outputs": [],
   "source": [
    "import numpy as np"
   ]
  },
  {
   "cell_type": "markdown",
   "id": "a4d00b21",
   "metadata": {},
   "source": [
    "## 1-d array"
   ]
  },
  {
   "cell_type": "code",
   "execution_count": 2,
   "id": "433671cc",
   "metadata": {},
   "outputs": [],
   "source": [
    "one_dim_array = np.array ([1,2,3,4,5])"
   ]
  },
  {
   "cell_type": "code",
   "execution_count": 3,
   "id": "e4716c13",
   "metadata": {},
   "outputs": [
    {
     "data": {
      "text/plain": [
       "(5,)"
      ]
     },
     "execution_count": 3,
     "metadata": {},
     "output_type": "execute_result"
    }
   ],
   "source": [
    "one_dim_array.shape"
   ]
  },
  {
   "cell_type": "code",
   "execution_count": null,
   "id": "ab1af683",
   "metadata": {},
   "outputs": [],
   "source": [
    "one_dim_array[0]"
   ]
  },
  {
   "cell_type": "code",
   "execution_count": 5,
   "id": "9e46a4d9",
   "metadata": {},
   "outputs": [],
   "source": [
    "arr1=np.arange(10)"
   ]
  },
  {
   "cell_type": "code",
   "execution_count": null,
   "id": "32214533",
   "metadata": {},
   "outputs": [],
   "source": [
    "arr1"
   ]
  },
  {
   "cell_type": "code",
   "execution_count": 7,
   "id": "61972155",
   "metadata": {},
   "outputs": [],
   "source": [
    "arr2 = np.arange(20,30)"
   ]
  },
  {
   "cell_type": "code",
   "execution_count": 8,
   "id": "9aa2704e",
   "metadata": {},
   "outputs": [
    {
     "data": {
      "text/plain": [
       "array([20, 21, 22, 23, 24, 25, 26, 27, 28, 29])"
      ]
     },
     "execution_count": 8,
     "metadata": {},
     "output_type": "execute_result"
    }
   ],
   "source": [
    "arr2"
   ]
  },
  {
   "cell_type": "code",
   "execution_count": 9,
   "id": "0b5915ff",
   "metadata": {},
   "outputs": [
    {
     "data": {
      "text/plain": [
       "array([20, 22, 24, 26, 28, 30, 32, 34, 36, 38])"
      ]
     },
     "execution_count": 9,
     "metadata": {},
     "output_type": "execute_result"
    }
   ],
   "source": [
    "arr1 + arr2"
   ]
  },
  {
   "cell_type": "markdown",
   "id": "3e75e135",
   "metadata": {},
   "source": [
    "## math operations"
   ]
  },
  {
   "cell_type": "code",
   "execution_count": 11,
   "id": "6b1ecc4f",
   "metadata": {},
   "outputs": [],
   "source": [
    "sample_arr = np.arange (1,6)"
   ]
  },
  {
   "cell_type": "code",
   "execution_count": 12,
   "id": "7403f80e",
   "metadata": {},
   "outputs": [
    {
     "data": {
      "text/plain": [
       "array([ 5, 10, 15, 20, 25])"
      ]
     },
     "execution_count": 12,
     "metadata": {},
     "output_type": "execute_result"
    }
   ],
   "source": [
    "# multiplication\n",
    "sample_arr *5"
   ]
  },
  {
   "cell_type": "code",
   "execution_count": 13,
   "id": "c0907b3e",
   "metadata": {},
   "outputs": [
    {
     "data": {
      "text/plain": [
       "array([0.2, 0.4, 0.6, 0.8, 1. ])"
      ]
     },
     "execution_count": 13,
     "metadata": {},
     "output_type": "execute_result"
    }
   ],
   "source": [
    "#divition\n",
    "sample_arr / 5"
   ]
  },
  {
   "cell_type": "markdown",
   "id": "58dc2762",
   "metadata": {},
   "source": [
    "### indexing"
   ]
  },
  {
   "cell_type": "code",
   "execution_count": 15,
   "id": "c1b4a130",
   "metadata": {},
   "outputs": [
    {
     "data": {
      "text/plain": [
       "array([2, 3, 4])"
      ]
     },
     "execution_count": 15,
     "metadata": {},
     "output_type": "execute_result"
    }
   ],
   "source": [
    "#get [2,3,4]\n",
    "sample_arr [1:-1]"
   ]
  },
  {
   "cell_type": "code",
   "execution_count": 17,
   "id": "23deb5c8",
   "metadata": {},
   "outputs": [
    {
     "data": {
      "text/plain": [
       "array([False,  True, False,  True, False])"
      ]
     },
     "execution_count": 17,
     "metadata": {},
     "output_type": "execute_result"
    }
   ],
   "source": [
    "#even\n",
    "sample_arr % 2 ==0"
   ]
  },
  {
   "cell_type": "code",
   "execution_count": 18,
   "id": "73f56572",
   "metadata": {},
   "outputs": [
    {
     "data": {
      "text/plain": [
       "array([2, 4])"
      ]
     },
     "execution_count": 18,
     "metadata": {},
     "output_type": "execute_result"
    }
   ],
   "source": [
    "sample_arr[sample_arr % 2 ==0]"
   ]
  },
  {
   "cell_type": "markdown",
   "id": "3b02a21d",
   "metadata": {},
   "source": [
    "## 2-D array"
   ]
  },
  {
   "cell_type": "code",
   "execution_count": 23,
   "id": "249add35",
   "metadata": {},
   "outputs": [],
   "source": [
    "a_two_dim_arr = np.array([[2,2] , [2,2]])"
   ]
  },
  {
   "cell_type": "code",
   "execution_count": 24,
   "id": "7ac597db",
   "metadata": {},
   "outputs": [
    {
     "data": {
      "text/plain": [
       "(2, 2)"
      ]
     },
     "execution_count": 24,
     "metadata": {},
     "output_type": "execute_result"
    }
   ],
   "source": [
    "a_two_dim_arr.shape"
   ]
  },
  {
   "cell_type": "code",
   "execution_count": 25,
   "id": "c32fdead",
   "metadata": {},
   "outputs": [
    {
     "data": {
      "text/plain": [
       "array([[2, 2],\n",
       "       [2, 2]])"
      ]
     },
     "execution_count": 25,
     "metadata": {},
     "output_type": "execute_result"
    }
   ],
   "source": [
    "a_two_dim_arr"
   ]
  },
  {
   "cell_type": "code",
   "execution_count": 36,
   "id": "d8fdd055",
   "metadata": {},
   "outputs": [
    {
     "data": {
      "text/plain": [
       "array([[ 0,  1,  2,  3],\n",
       "       [ 4,  5,  6,  7],\n",
       "       [ 8,  9, 10, 11],\n",
       "       [12, 13, 14, 15]])"
      ]
     },
     "execution_count": 36,
     "metadata": {},
     "output_type": "execute_result"
    }
   ],
   "source": [
    "# with arange, create 4 * 4 array (0 to 16) #divide all the items into rows and columns\n",
    "four_by_four = np.arange(0, 16)\n",
    "four_by_four = four_by_four.reshape (4,4)\n",
    "four_by_four"
   ]
  },
  {
   "cell_type": "markdown",
   "id": "b0572362",
   "metadata": {},
   "source": [
    "## indexing 2-D"
   ]
  },
  {
   "cell_type": "code",
   "execution_count": 31,
   "id": "1394ccab",
   "metadata": {},
   "outputs": [
    {
     "data": {
      "text/plain": [
       "array([0, 1, 2, 3])"
      ]
     },
     "execution_count": 31,
     "metadata": {},
     "output_type": "execute_result"
    }
   ],
   "source": [
    "# get the first row\n",
    "four_by_four[0]"
   ]
  },
  {
   "cell_type": "code",
   "execution_count": 34,
   "id": "679bdd88",
   "metadata": {},
   "outputs": [
    {
     "data": {
      "text/plain": [
       "array([ 0,  4,  8, 12])"
      ]
     },
     "execution_count": 34,
     "metadata": {},
     "output_type": "execute_result"
    }
   ],
   "source": [
    "# get the first column\n",
    "four_by_four[:,0]"
   ]
  },
  {
   "cell_type": "code",
   "execution_count": null,
   "id": "d15cfb23",
   "metadata": {},
   "outputs": [],
   "source": []
  }
 ],
 "metadata": {
  "kernelspec": {
   "display_name": "Python 3 (ipykernel)",
   "language": "python",
   "name": "python3"
  },
  "language_info": {
   "codemirror_mode": {
    "name": "ipython",
    "version": 3
   },
   "file_extension": ".py",
   "mimetype": "text/x-python",
   "name": "python",
   "nbconvert_exporter": "python",
   "pygments_lexer": "ipython3",
   "version": "3.11.2"
  }
 },
 "nbformat": 4,
 "nbformat_minor": 5
}
